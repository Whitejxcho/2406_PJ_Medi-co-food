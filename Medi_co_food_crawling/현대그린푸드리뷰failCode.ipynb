{
 "cells": [
  {
   "cell_type": "markdown",
   "id": "1935c4fc-51d5-447f-bd8d-ca984810d57d",
   "metadata": {},
   "source": [
    "## 현대그린푸드 리뷰 데이터"
   ]
  },
  {
   "cell_type": "markdown",
   "id": "277e50db-7e3d-4835-b8ea-29df464f50bb",
   "metadata": {},
   "source": [
    "Selector로 가져오는 게 안되는 바람에 Xpath도 시도해봤는데, 지금 마지막에 리뷰를 긁어오는 게 안 됨. <br>\n",
    "이 파일을 남겨둔 이유는 내가 ~~한 것까지 시도해봤다고 기록을 남겨두는 것. <br>\n",
    "Xpath든 selector든 결국 못 리뷰 부분을 못 긁어왔는데, 그 이유는 <br>\n",
    "review 부분만 iframe 형태로 나타나고 타사 사이트에서 그 리뷰를 관리하고 있는 형태라서 접근할 수가 없었던 것으로 사료됨"
   ]
  },
  {
   "cell_type": "code",
   "execution_count": 2,
   "id": "c1650313-3831-434c-95df-233d33faa693",
   "metadata": {},
   "outputs": [
    {
     "name": "stdout",
     "output_type": "stream",
     "text": [
      "Requirement already satisfied: selenium in c:\\users\\user\\anaconda3\\lib\\site-packages (4.20.0)\n",
      "Requirement already satisfied: urllib3<3,>=1.26 in c:\\users\\user\\anaconda3\\lib\\site-packages (from urllib3[socks]<3,>=1.26->selenium) (2.0.7)\n",
      "Requirement already satisfied: trio~=0.17 in c:\\users\\user\\anaconda3\\lib\\site-packages (from selenium) (0.25.0)\n",
      "Requirement already satisfied: trio-websocket~=0.9 in c:\\users\\user\\anaconda3\\lib\\site-packages (from selenium) (0.11.1)\n",
      "Requirement already satisfied: certifi>=2021.10.8 in c:\\users\\user\\anaconda3\\lib\\site-packages (from selenium) (2023.7.22)\n",
      "Requirement already satisfied: typing_extensions>=4.9.0 in c:\\users\\user\\anaconda3\\lib\\site-packages (from selenium) (4.11.0)\n",
      "Requirement already satisfied: attrs>=23.2.0 in c:\\users\\user\\anaconda3\\lib\\site-packages (from trio~=0.17->selenium) (23.2.0)\n",
      "Requirement already satisfied: sortedcontainers in c:\\users\\user\\anaconda3\\lib\\site-packages (from trio~=0.17->selenium) (2.4.0)\n",
      "Requirement already satisfied: idna in c:\\users\\user\\anaconda3\\lib\\site-packages (from trio~=0.17->selenium) (3.4)\n",
      "Requirement already satisfied: outcome in c:\\users\\user\\anaconda3\\lib\\site-packages (from trio~=0.17->selenium) (1.3.0.post0)\n",
      "Requirement already satisfied: sniffio>=1.3.0 in c:\\users\\user\\anaconda3\\lib\\site-packages (from trio~=0.17->selenium) (1.3.0)\n",
      "Requirement already satisfied: cffi>=1.14 in c:\\users\\user\\anaconda3\\lib\\site-packages (from trio~=0.17->selenium) (1.15.1)\n",
      "Requirement already satisfied: wsproto>=0.14 in c:\\users\\user\\anaconda3\\lib\\site-packages (from trio-websocket~=0.9->selenium) (1.2.0)\n",
      "Requirement already satisfied: pysocks!=1.5.7,<2.0,>=1.5.6 in c:\\users\\user\\anaconda3\\lib\\site-packages (from urllib3[socks]<3,>=1.26->selenium) (1.7.1)\n",
      "Requirement already satisfied: pycparser in c:\\users\\user\\anaconda3\\lib\\site-packages (from cffi>=1.14->trio~=0.17->selenium) (2.21)\n",
      "Requirement already satisfied: h11<1,>=0.9.0 in c:\\users\\user\\anaconda3\\lib\\site-packages (from wsproto>=0.14->trio-websocket~=0.9->selenium) (0.14.0)\n",
      "Note: you may need to restart the kernel to use updated packages.\n"
     ]
    }
   ],
   "source": [
    "pip install selenium"
   ]
  },
  {
   "cell_type": "code",
   "execution_count": 3,
   "id": "a3c7e9be-c33e-428d-bcbd-0f41c19a9df4",
   "metadata": {},
   "outputs": [
    {
     "name": "stdout",
     "output_type": "stream",
     "text": [
      "Requirement already satisfied: webdriver-manager in c:\\users\\user\\anaconda3\\lib\\site-packages (4.0.1)\n",
      "Requirement already satisfied: requests in c:\\users\\user\\anaconda3\\lib\\site-packages (from webdriver-manager) (2.31.0)\n",
      "Requirement already satisfied: python-dotenv in c:\\users\\user\\anaconda3\\lib\\site-packages (from webdriver-manager) (1.0.0)\n",
      "Requirement already satisfied: packaging in c:\\users\\user\\anaconda3\\lib\\site-packages (from webdriver-manager) (23.1)\n",
      "Requirement already satisfied: charset-normalizer<4,>=2 in c:\\users\\user\\anaconda3\\lib\\site-packages (from requests->webdriver-manager) (3.2.0)\n",
      "Requirement already satisfied: idna<4,>=2.5 in c:\\users\\user\\anaconda3\\lib\\site-packages (from requests->webdriver-manager) (3.4)\n",
      "Requirement already satisfied: urllib3<3,>=1.21.1 in c:\\users\\user\\anaconda3\\lib\\site-packages (from requests->webdriver-manager) (2.0.7)\n",
      "Requirement already satisfied: certifi>=2017.4.17 in c:\\users\\user\\anaconda3\\lib\\site-packages (from requests->webdriver-manager) (2023.7.22)\n",
      "Note: you may need to restart the kernel to use updated packages.\n"
     ]
    }
   ],
   "source": [
    "pip install webdriver-manager"
   ]
  },
  {
   "cell_type": "code",
   "execution_count": 1,
   "id": "2f70cde6-26f5-4435-bfc8-7325da79a107",
   "metadata": {},
   "outputs": [],
   "source": [
    "from selenium import webdriver as wb\n",
    "from selenium.webdriver.common.by import By\n",
    "from selenium.webdriver.chrome.service import Service as ChromeService\n",
    "from selenium.webdriver.support.ui import WebDriverWait\n",
    "from selenium.webdriver.support import expected_conditions as EC\n",
    "from webdriver_manager.chrome import ChromeDriverManager\n",
    "import time\n",
    "# 1. 파일시스템을 위한 라이브러리(파일, 폴더 생성 삭제)\n",
    "import os\n",
    "# 2. 이미지의 경로를 실제 파일로 변환 라이브러리\n",
    "from urllib.request import urlretrieve\n",
    "\n",
    "# Chrome WebDriver 설정\n",
    "driver = wb.Chrome(service=ChromeService(ChromeDriverManager().install()))\n"
   ]
  },
  {
   "cell_type": "code",
   "execution_count": 5,
   "id": "2edbf927-bf0b-46f0-837f-e5987586a99b",
   "metadata": {},
   "outputs": [],
   "source": [
    "url = 'https://www.greating.co.kr/search/searchCareResult?IL_ITEM_TEXT=%ED%86%B5%EB%93%A4%EA%B9%A8%EB%B0%A5'\n",
    "driver = wb.Chrome()"
   ]
  },
  {
   "cell_type": "markdown",
   "id": "4a50c7a7-5e89-41e7-9a71-9affda00eba2",
   "metadata": {},
   "source": [
    "Selector 가져와 보려고 했으나 실패"
   ]
  },
  {
   "cell_type": "code",
   "execution_count": 7,
   "id": "dfd826ae-3244-4bb2-8530-107b71dea6c5",
   "metadata": {},
   "outputs": [
    {
     "name": "stdout",
     "output_type": "stream",
     "text": [
      "Found elementIframe: <selenium.webdriver.remote.webelement.WebElement (session=\"da5105a465782e45e4692c050beae485\", element=\"f.865CCE10E2DBC902D67C8BBA4C421239.d.2FB3F374EE6717E416E878CAC53FA55A.e.50\")>\n",
      "Found elementReview: <selenium.webdriver.remote.webelement.WebElement (session=\"da5105a465782e45e4692c050beae485\", element=\"f.865CCE10E2DBC902D67C8BBA4C421239.d.2FB3F374EE6717E416E878CAC53FA55A.e.80\")>\n",
      "Found review_elements: []\n",
      "No reviews found.\n"
     ]
    }
   ],
   "source": [
    "# Chrome WebDriver 설정\n",
    "service = ChromeService(ChromeDriverManager().install())\n",
    "driver = wb.Chrome(service=service)\n",
    "\n",
    "# URL 설정\n",
    "driver.get(url)\n",
    "\n",
    "# 특정 요소가 로드될 때까지 대기\n",
    "time.sleep(1)  # 5초 대기\n",
    "elementIframe = driver.find_element(By.CSS_SELECTOR, '#dvSrchItemList_7558 > li > div > a > figure > img')\n",
    "print(\"Found elementIframe:\", elementIframe)\n",
    "elementIframe.click()\n",
    "\n",
    "# 리뷰 탭으로 전환\n",
    "time.sleep(2)  # 5초 대기\n",
    "elementReview = driver.find_element(By.CSS_SELECTOR, '#wrap > div.hd__popup.designationDetail > div > article > div > section.designationDetail__sect.detail > div.tab-menu > ul > li:nth-child(2) > a > strong')\n",
    "print(\"Found elementReview:\", elementReview)\n",
    "elementReview.click()\n",
    "\n",
    "# 리뷰가 로드될 때까지 대기\n",
    "time.sleep(2)  # 5초 대기\n",
    "# driver.switch_to.frame('#review-3')\n",
    "review_elements = driver.find_elements(By.CSS_SELECTOR, '#review-list > div > div > div.MuiStack-root.css-1toydpa > div.MuiStack-root.css-2s6hnf > div.MuiStack-root.css-j7qwjs > p')\n",
    "print(\"Found review_elements:\", review_elements)\n",
    "\n",
    "# 리뷰 텍스트 가져오기 및 출력\n",
    "if review_elements:\n",
    "    reviews = [review.text for review in review_elements]\n",
    "    for idx, review in enumerate(reviews, start=1):\n",
    "        print(f\"Review {idx}: {review}\")\n",
    "else:\n",
    "    print(\"No reviews found.\")\n",
    "\n",
    "# 작업 완료 후 브라우저 닫기\n",
    "# driver.quit()\n"
   ]
  },
  {
   "cell_type": "markdown",
   "id": "8ec8cc9a-db78-4cf4-b48c-3071e0bd9b2a",
   "metadata": {},
   "source": [
    "Xpath로 가져와 보려고 했으나 실패"
   ]
  },
  {
   "cell_type": "code",
   "execution_count": null,
   "id": "c515c084-a99f-4589-90f6-20bbff41b23a",
   "metadata": {},
   "outputs": [],
   "source": [
    "# Chrome WebDriver 설정\n",
    "service = ChromeService(ChromeDriverManager().install())\n",
    "driver = webdriver.Chrome(service=service)\n",
    "\n",
    "# URL 설정\n",
    "url = 'https://www.greating.co.kr/search/searchCareResult?IL_ITEM_TEXT=%EB%93%A4%EA%B9%A8%EB%A7%88%EB%8A%98%EC%A2%85%EC%9A%B0%EC%9C%A1%EB%B3%B6%EC%9D%8C%20%EC%84%B8%ED%8A%B8#'\n",
    "driver.get(url)\n",
    "\n",
    "# 특정 요소가 로드될 때까지 대기\n",
    "time.sleep(1)  # 5초 대기\n",
    "elementIframe = driver.find_element(By.CSS_SELECTOR, '#dvSrchItemList_7558 > li > div > a > figure > img')\n",
    "print(\"Found elementIframe:\", elementIframe)\n",
    "elementIframe.click()\n",
    "\n",
    "# 리뷰 탭으로 전환\n",
    "time.sleep(1)  # 5초 대기\n",
    "elementReview = driver.find_element(By.CSS_SELECTOR, '#wrap > div.hd__popup.designationDetail > div > article > div > section.designationDetail__sect.detail > div.tab-menu > ul > li:nth-child(2) > a > strong')\n",
    "print(\"Found elementReview:\", elementReview)\n",
    "elementReview.click()\n",
    "\n",
    "# 리뷰가 로드될 때까지 대기\n",
    "time.sleep(1)  # 5초 대기\n",
    "review_elements = driver.find_elements(By.XPATH, '//*[@id=\"review-list\"]/div/div/div[2]/div[2]/div/p')\n",
    "print(\"Found review_elements:\", review_elements)\n",
    "\n",
    "# 리뷰 텍스트 가져오기 및 출력\n",
    "if review_elements:\n",
    "    reviews = [review.text for review in review_elements]\n",
    "    for idx, review in enumerate(reviews, start=1):\n",
    "        print(f\"Review {idx}: {review}\")\n",
    "else:\n",
    "    print(\"No reviews found.\")\n",
    "\n",
    "# 작업 완료 후 브라우저 닫기\n",
    "driver.quit()\n"
   ]
  },
  {
   "cell_type": "code",
   "execution_count": null,
   "id": "4562c346-8515-428c-831d-b7c5bd664d41",
   "metadata": {},
   "outputs": [],
   "source": []
  },
  {
   "cell_type": "markdown",
   "id": "3bc400e5-fdb6-40ea-abe8-70aa1a489913",
   "metadata": {},
   "source": [
    "iframe의 리뷰 코드 부분\r\n",
    "#review-list > div > div > div.MuiStack-root.css-1toydpa > div.MuiStack-root.css-2s6hnf > div > p\r\n",
    "\r\n",
    "#review-list > div:nth-child(3) > div > div.MuiStack-root.css-1toydpa > div.MuiStack-root.css-2s6hnf > div > p\r\n",
    "\r\n",
    "#review-list > div:nth-child(9) > div > div.MuiStack-root.css-1toydpa > div.MuiStack-root.css-2s6hnf > div \n",
    "#review-list > div:nth-child(3) > div > div.MuiStack-root.css-1toydpa > div.MuiStack-root.css-2s6hnf > div > p\n",
    "p\r\n",
    "\r\n",
    "\r\n",
    "\r\n",
    "\r\n",
    "리뷰를 다 긁어오면 그건 각각의 파일에  저장하는가??\r\n",
    "\r\n",
    "\r\n",
    "\r\n",
    "\r\n",
    "다음 페이지 넘어가는 버튼\r\n",
    "#review-list > div.MuiBox-root.css-jrvxja > nav > ul > li:nth-child(3) > button\r\n",
    "2페이지\r\n",
    "#review-list > div.MuiBox-root.css-jrvxja > nav > ul > li:nth-child이렇게 통합하면 되겠다!(4) > button\r\n",
    "3페이지\r\n",
    "\r\n",
    "#review-list > div.MuiBox-root.css-jrvxja > nav > ul \n",
    "iframe 들어가기 위한 셀렉터 button click 해서 여기 들어가게 할 것li > button > svg\r\n",
    "\r\n",
    "\r\n",
    "\r\n",
    "\r\n",
    "#dvSrchItemList_7558 > l\n",
    "\n",
    "i > div > a > figure > img"
   ]
  },
  {
   "cell_type": "code",
   "execution_count": null,
   "id": "ffd3a6a7-c489-46bd-ab25-e0e7ade852e0",
   "metadata": {},
   "outputs": [],
   "source": []
  },
  {
   "cell_type": "markdown",
   "id": "906b6b64-7d9f-4a39-b1fc-3002a711919c",
   "metadata": {},
   "source": []
  },
  {
   "cell_type": "code",
   "execution_count": null,
   "id": "4cd9a665-3201-4889-915b-a2e4daa01b5f",
   "metadata": {},
   "outputs": [],
   "source": []
  },
  {
   "cell_type": "code",
   "execution_count": null,
   "id": "ab5142f8-c0eb-455d-b73d-2a883b9c8f55",
   "metadata": {},
   "outputs": [],
   "source": []
  },
  {
   "cell_type": "code",
   "execution_count": null,
   "id": "8d59a013-25b1-444d-8c94-e0c1f636ba74",
   "metadata": {},
   "outputs": [],
   "source": []
  },
  {
   "cell_type": "code",
   "execution_count": null,
   "id": "c78fdf49-b9e4-4a3f-bbd3-9d4f759ed6f5",
   "metadata": {},
   "outputs": [],
   "source": []
  },
  {
   "cell_type": "code",
   "execution_count": null,
   "id": "8bca60f3-a814-4407-8899-2ef5d2725ddf",
   "metadata": {},
   "outputs": [],
   "source": []
  },
  {
   "cell_type": "code",
   "execution_count": null,
   "id": "e75ef7ea-467a-4381-8278-4eb8aef901bf",
   "metadata": {},
   "outputs": [],
   "source": []
  },
  {
   "cell_type": "code",
   "execution_count": null,
   "id": "609d854b-7163-4cf8-963b-bd38246c6570",
   "metadata": {},
   "outputs": [],
   "source": []
  },
  {
   "cell_type": "code",
   "execution_count": 31,
   "id": "12b50c2c-2233-4242-bcaf-a9aad397d47e",
   "metadata": {},
   "outputs": [
    {
     "name": "stdout",
     "output_type": "stream",
     "text": [
      "Found elementIframe: <selenium.webdriver.remote.webelement.WebElement (session=\"157827ef940d9e9373f084266d705b48\", element=\"f.75662CC341FA82D287DE62FABC77E081.d.0A658372333D8F3EEB9A6CD655D564C2.e.47\")>\n",
      "Found elementReview: <selenium.webdriver.remote.webelement.WebElement (session=\"157827ef940d9e9373f084266d705b48\", element=\"f.75662CC341FA82D287DE62FABC77E081.d.0A658372333D8F3EEB9A6CD655D564C2.e.74\")>\n",
      "Found review_elements: []\n",
      "No reviews found.\n"
     ]
    }
   ],
   "source": [
    "import time\n",
    "from selenium import webdriver\n",
    "from selenium.webdriver.common.by import By\n",
    "from selenium.webdriver.chrome.service import Service as ChromeService\n",
    "from webdriver_manager.chrome import ChromeDriverManager\n",
    "\n",
    "# Chrome WebDriver 설정\n",
    "service = ChromeService(ChromeDriverManager().install())\n",
    "driver = webdriver.Chrome(service=service)\n",
    "\n",
    "# URL 설정\n",
    "url = 'https://www.greating.co.kr/search/searchCareResult?IL_ITEM_TEXT=%EB%93%A4%EA%B9%A8%EB%A7%88%EB%8A%98%EC%A2%85%EC%9A%B0%EC%9C%A1%EB%B3%B6%EC%9D%8C%20%EC%84%B8%ED%8A%B8#'\n",
    "driver.get(url)\n",
    "\n",
    "# 특정 요소가 로드될 때까지 대기\n",
    "time.sleep(1)\n",
    "elementIframe = driver.find_element(By.CSS_SELECTOR, '#dvSrchItemList_7558 > li > div > a > figure > img')\n",
    "print(\"Found elementIframe:\", elementIframe)\n",
    "elementIframe.click()\n",
    "\n",
    "# 리뷰 탭으로 전환\n",
    "time.sleep(1) \n",
    "elementReview = driver.find_element(By.CSS_SELECTOR, '#wrap > div.hd__popup.designationDetail > div > article > div > section.designationDetail__sect.detail > div.tab-menu > ul > li:nth-child(2) > a > strong')\n",
    "print(\"Found elementReview:\", elementReview)\n",
    "elementReview.click()\n",
    "\n",
    "# 리뷰가 로드될 때까지 대기\n",
    "time.sleep(1)  \n",
    "review_elements = driver.find_elements(By.CSS_SELECTOR, '#review-list > div:nth-child(2) > div > div.MuiStack-root.css-1toydpa > div.MuiStack-root.css-2s6hnf > div.MuiStack-root.css-j7qwjs > p')\n",
    "print(\"Found review_elements:\", review_elements)\n",
    "\n",
    "# 리뷰 텍스트 가져오기 및 출력\n",
    "if review_elements:\n",
    "    reviews = [review.text for review in review_elements]\n",
    "    for idx, review in enumerate(reviews, start=1):\n",
    "        print(f\"Review {idx}: {review}\")\n",
    "else:\n",
    "    print(\"No reviews found.\")\n"
   ]
  },
  {
   "cell_type": "markdown",
   "id": "cfa94bdb-0a68-48cf-8ef1-99a91c6a2570",
   "metadata": {},
   "source": [
    "### time.sleep() 대신 WebDriverWait와 expected_conditions를 사용하여 특정 요소가 로드될 때까지 대기하는 방법으로 통일한 것"
   ]
  },
  {
   "cell_type": "code",
   "execution_count": 30,
   "id": "e15e77d4-e42c-4def-b753-088bece3335a",
   "metadata": {},
   "outputs": [
    {
     "name": "stdout",
     "output_type": "stream",
     "text": [
      "Found elementIframe: <selenium.webdriver.remote.webelement.WebElement (session=\"5fb0e86f357a4f6f3e0984c8706af042\", element=\"f.953A406D9A208B00C3F7E7D88388C2E8.d.4EA1B8FF9C983F7BE5344A21FDA1BEF2.e.47\")>\n",
      "Found elementReview: <selenium.webdriver.remote.webelement.WebElement (session=\"5fb0e86f357a4f6f3e0984c8706af042\", element=\"f.953A406D9A208B00C3F7E7D88388C2E8.d.4EA1B8FF9C983F7BE5344A21FDA1BEF2.e.59\")>\n"
     ]
    },
    {
     "ename": "TimeoutException",
     "evalue": "Message: \n",
     "output_type": "error",
     "traceback": [
      "\u001b[1;31m---------------------------------------------------------------------------\u001b[0m",
      "\u001b[1;31mTimeoutException\u001b[0m                          Traceback (most recent call last)",
      "Cell \u001b[1;32mIn[30], line 28\u001b[0m\n\u001b[0;32m     25\u001b[0m elementReview\u001b[38;5;241m.\u001b[39mclick()\n\u001b[0;32m     27\u001b[0m \u001b[38;5;66;03m# 리뷰가 로드될 때까지 대기\u001b[39;00m\n\u001b[1;32m---> 28\u001b[0m review_elements \u001b[38;5;241m=\u001b[39m wait\u001b[38;5;241m.\u001b[39muntil(EC\u001b[38;5;241m.\u001b[39mpresence_of_all_elements_located((By\u001b[38;5;241m.\u001b[39mCSS_SELECTOR, \u001b[38;5;124m'\u001b[39m\u001b[38;5;124m#review-list > div.MuiStack-root.css-1toydpa > div.MuiStack-root.css-2s6hnf > div.MuiStack-root.css-j7qwjs > p\u001b[39m\u001b[38;5;124m'\u001b[39m)))\n\u001b[0;32m     29\u001b[0m \u001b[38;5;28mprint\u001b[39m(\u001b[38;5;124m\"\u001b[39m\u001b[38;5;124mFound review_elements:\u001b[39m\u001b[38;5;124m\"\u001b[39m, review_elements)\n\u001b[0;32m     31\u001b[0m \u001b[38;5;66;03m# 리뷰 텍스트 가져오기 및 출력\u001b[39;00m\n",
      "File \u001b[1;32m~\\anaconda3\\Lib\\site-packages\\selenium\\webdriver\\support\\wait.py:105\u001b[0m, in \u001b[0;36mWebDriverWait.until\u001b[1;34m(self, method, message)\u001b[0m\n\u001b[0;32m    103\u001b[0m     \u001b[38;5;28;01mif\u001b[39;00m time\u001b[38;5;241m.\u001b[39mmonotonic() \u001b[38;5;241m>\u001b[39m end_time:\n\u001b[0;32m    104\u001b[0m         \u001b[38;5;28;01mbreak\u001b[39;00m\n\u001b[1;32m--> 105\u001b[0m \u001b[38;5;28;01mraise\u001b[39;00m TimeoutException(message, screen, stacktrace)\n",
      "\u001b[1;31mTimeoutException\u001b[0m: Message: \n"
     ]
    }
   ],
   "source": [
    "from selenium import webdriver\n",
    "from selenium.webdriver.common.by import By\n",
    "from selenium.webdriver.chrome.service import Service as ChromeService\n",
    "from selenium.webdriver.support.ui import WebDriverWait\n",
    "from selenium.webdriver.support import expected_conditions as EC\n",
    "from webdriver_manager.chrome import ChromeDriverManager\n",
    "\n",
    "# Chrome WebDriver 설정\n",
    "service = ChromeService(ChromeDriverManager().install())\n",
    "driver = webdriver.Chrome(service=service)\n",
    "\n",
    "# URL 설정\n",
    "url = 'https://www.greating.co.kr/search/searchCareResult?IL_ITEM_TEXT=%EB%93%A4%EA%B9%A8%EB%A7%88%EB%8A%98%EC%A2%85%EC%9A%B0%EC%9C%A1%EB%B3%B6%EC%9D%8C%20%EC%84%B8%ED%8A%B8#'\n",
    "driver.get(url)\n",
    "\n",
    "# 특정 요소가 로드될 때까지 대기\n",
    "wait = WebDriverWait(driver, 10)\n",
    "elementIframe = wait.until(EC.presence_of_element_located((By.CSS_SELECTOR, '#dvSrchItemList_7558 > li > div > a > figure > img')))\n",
    "print(\"Found elementIframe:\", elementIframe)\n",
    "elementIframe.click()\n",
    "\n",
    "# 리뷰 탭으로 전환\n",
    "elementReview = wait.until(EC.presence_of_element_located((By.CSS_SELECTOR, '#wrap > div.hd__popup.designationDetail > div > article > div > section.designationDetail__sect.detail > div.tab-menu > ul > li:nth-child(2) > a > strong')))\n",
    "print(\"Found elementReview:\", elementReview)\n",
    "elementReview.click()\n",
    "\n",
    "# 리뷰가 로드될 때까지 대기\n",
    "review_elements = wait.until(EC.presence_of_all_elements_located((By.CSS_SELECTOR, '#review-list > div.MuiStack-root.css-1toydpa > div.MuiStack-root.css-2s6hnf > div.MuiStack-root.css-j7qwjs > p')))\n",
    "print(\"Found review_elements:\", review_elements)\n",
    "\n",
    "# 리뷰 텍스트 가져오기 및 출력\n",
    "if review_elements:\n",
    "    reviews = [review.text for review in review_elements]\n",
    "    for idx, review in enumerate(reviews, start=1):\n",
    "        print(f\"Review {idx}: {review}\")\n",
    "else:\n",
    "    print(\"No reviews found.\")\n",
    "\n",
    "# 작업 완료 후 브라우저 닫기\n",
    "driver.quit()\n"
   ]
  },
  {
   "cell_type": "markdown",
   "id": "8e3e05c7-baef-4e09-902b-10a6cc76e265",
   "metadata": {},
   "source": [
    "### 얘를 Xpath로 바꿔도 안 됨... ㅠ"
   ]
  },
  {
   "cell_type": "code",
   "execution_count": null,
   "id": "07ef3b48-f66f-4922-a1e0-51a516bd1e13",
   "metadata": {},
   "outputs": [],
   "source": [
    "from selenium import webdriver\n",
    "from selenium.webdriver.common.by import By\n",
    "from selenium.webdriver.chrome.service import Service as ChromeService\n",
    "from selenium.webdriver.support.ui import WebDriverWait\n",
    "from selenium.webdriver.support import expected_conditions as EC\n",
    "from webdriver_manager.chrome import ChromeDriverManager\n",
    "\n",
    "# Chrome WebDriver 설정\n",
    "service = ChromeService(ChromeDriverManager().install())\n",
    "driver = webdriver.Chrome(service=service)\n",
    "\n",
    "# URL 설정\n",
    "url = 'https://www.greating.co.kr/search/searchCareResult?IL_ITEM_TEXT=%EB%93%A4%EA%B9%A8%EB%A7%88%EB%8A%98%EC%A2%85%EC%9A%B0%EC%9C%A1%EB%B3%B6%EC%9D%8C%20%EC%84%B8%ED%8A%B8#'\n",
    "driver.get(url)\n",
    "\n",
    "# 특정 요소가 로드될 때까지 대기\n",
    "wait = WebDriverWait(driver, 10)\n",
    "elementIframe = wait.until(EC.presence_of_element_located((By.CSS_SELECTOR, '#dvSrchItemList_7558 > li > div > a > figure > img')))\n",
    "print(\"Found elementIframe:\", elementIframe)\n",
    "elementIframe.click()\n",
    "\n",
    "# 리뷰 탭으로 전환\n",
    "elementReview = wait.until(EC.presence_of_element_located((By.CSS_SELECTOR, '#wrap > div.hd__popup.designationDetail > div > article > div > section.designationDetail__sect.detail > div.tab-menu > ul > li:nth-child(2) > a > strong')))\n",
    "print(\"Found elementReview:\", elementReview)\n",
    "elementReview.click()\n",
    "\n",
    "# 리뷰가 로드될 때까지 대기\n",
    "review_elements = wait.until(EC.presence_of_all_elements_located((By.XPATH, '//*[@id=\"review-list\"]/div/div/div[2]/div[2]/div/p')))\n",
    "print(\"Found review_elements:\", review_elements)\n",
    "\n",
    "# 리뷰 텍스트 가져오기 및 출력\n",
    "if review_elements:\n",
    "    reviews = [review.text for review in review_elements]\n",
    "    for idx, review in enumerate(reviews, start=1):\n",
    "        print(f\"Review {idx}: {review}\")\n",
    "else:\n",
    "    print(\"No reviews found.\")\n",
    "\n",
    "# 작업 완료 후 브라우저 닫기\n",
    "driver.quit()\n"
   ]
  },
  {
   "cell_type": "code",
   "execution_count": null,
   "id": "00cff4f2-6662-4912-a83c-0ed2f3451224",
   "metadata": {},
   "outputs": [],
   "source": []
  },
  {
   "cell_type": "code",
   "execution_count": null,
   "id": "16457d67-54c5-4bc4-be86-ea5c7b5dd3cb",
   "metadata": {},
   "outputs": [],
   "source": []
  },
  {
   "cell_type": "code",
   "execution_count": null,
   "id": "600651fd-30f0-4cd2-88a4-cdada9426d68",
   "metadata": {},
   "outputs": [],
   "source": []
  },
  {
   "cell_type": "code",
   "execution_count": 1,
   "id": "3323580d-9c80-429c-9d76-928fb4c7e26c",
   "metadata": {},
   "outputs": [
    {
     "name": "stdout",
     "output_type": "stream",
     "text": [
      "Requirement already satisfied: selenium-wire in c:\\users\\user\\anaconda3\\lib\\site-packages (5.1.0)\n",
      "Requirement already satisfied: blinker>=1.4 in c:\\users\\user\\anaconda3\\lib\\site-packages (from selenium-wire) (1.6.2)\n",
      "Requirement already satisfied: brotli>=1.0.9 in c:\\users\\user\\anaconda3\\lib\\site-packages (from selenium-wire) (1.0.9)\n",
      "Requirement already satisfied: certifi>=2019.9.11 in c:\\users\\user\\anaconda3\\lib\\site-packages (from selenium-wire) (2023.7.22)\n",
      "Requirement already satisfied: kaitaistruct>=0.7 in c:\\users\\user\\anaconda3\\lib\\site-packages (from selenium-wire) (0.10)\n",
      "Requirement already satisfied: pyasn1>=0.3.1 in c:\\users\\user\\anaconda3\\lib\\site-packages (from selenium-wire) (0.4.8)\n",
      "Requirement already satisfied: pyOpenSSL>=22.0.0 in c:\\users\\user\\anaconda3\\lib\\site-packages (from selenium-wire) (24.0.0)\n",
      "Requirement already satisfied: pyparsing>=2.4.2 in c:\\users\\user\\anaconda3\\lib\\site-packages (from selenium-wire) (3.0.9)\n",
      "Requirement already satisfied: pysocks>=1.7.1 in c:\\users\\user\\anaconda3\\lib\\site-packages (from selenium-wire) (1.7.1)\n",
      "Requirement already satisfied: selenium>=4.0.0 in c:\\users\\user\\anaconda3\\lib\\site-packages (from selenium-wire) (4.20.0)\n",
      "Requirement already satisfied: wsproto>=0.14 in c:\\users\\user\\anaconda3\\lib\\site-packages (from selenium-wire) (1.2.0)\n",
      "Requirement already satisfied: zstandard>=0.14.1 in c:\\users\\user\\anaconda3\\lib\\site-packages (from selenium-wire) (0.19.0)\n",
      "Requirement already satisfied: h2>=4.0 in c:\\users\\user\\anaconda3\\lib\\site-packages (from selenium-wire) (4.1.0)\n",
      "Requirement already satisfied: hyperframe>=6.0 in c:\\users\\user\\anaconda3\\lib\\site-packages (from selenium-wire) (6.0.1)\n",
      "Requirement already satisfied: pydivert>=2.0.3 in c:\\users\\user\\anaconda3\\lib\\site-packages (from selenium-wire) (2.1.0)\n",
      "Requirement already satisfied: hpack<5,>=4.0 in c:\\users\\user\\anaconda3\\lib\\site-packages (from h2>=4.0->selenium-wire) (4.0.0)\n",
      "Requirement already satisfied: cryptography<43,>=41.0.5 in c:\\users\\user\\anaconda3\\lib\\site-packages (from pyOpenSSL>=22.0.0->selenium-wire) (42.0.7)\n",
      "Requirement already satisfied: urllib3<3,>=1.26 in c:\\users\\user\\anaconda3\\lib\\site-packages (from urllib3[socks]<3,>=1.26->selenium>=4.0.0->selenium-wire) (2.0.7)\n",
      "Requirement already satisfied: trio~=0.17 in c:\\users\\user\\anaconda3\\lib\\site-packages (from selenium>=4.0.0->selenium-wire) (0.25.0)\n",
      "Requirement already satisfied: trio-websocket~=0.9 in c:\\users\\user\\anaconda3\\lib\\site-packages (from selenium>=4.0.0->selenium-wire) (0.11.1)\n",
      "Requirement already satisfied: typing_extensions>=4.9.0 in c:\\users\\user\\anaconda3\\lib\\site-packages (from selenium>=4.0.0->selenium-wire) (4.11.0)\n",
      "Requirement already satisfied: h11<1,>=0.9.0 in c:\\users\\user\\anaconda3\\lib\\site-packages (from wsproto>=0.14->selenium-wire) (0.14.0)\n",
      "Requirement already satisfied: cffi>=1.12 in c:\\users\\user\\anaconda3\\lib\\site-packages (from cryptography<43,>=41.0.5->pyOpenSSL>=22.0.0->selenium-wire) (1.15.1)\n",
      "Requirement already satisfied: attrs>=23.2.0 in c:\\users\\user\\anaconda3\\lib\\site-packages (from trio~=0.17->selenium>=4.0.0->selenium-wire) (23.2.0)\n",
      "Requirement already satisfied: sortedcontainers in c:\\users\\user\\anaconda3\\lib\\site-packages (from trio~=0.17->selenium>=4.0.0->selenium-wire) (2.4.0)\n",
      "Requirement already satisfied: idna in c:\\users\\user\\anaconda3\\lib\\site-packages (from trio~=0.17->selenium>=4.0.0->selenium-wire) (3.4)\n",
      "Requirement already satisfied: outcome in c:\\users\\user\\anaconda3\\lib\\site-packages (from trio~=0.17->selenium>=4.0.0->selenium-wire) (1.3.0.post0)\n",
      "Requirement already satisfied: sniffio>=1.3.0 in c:\\users\\user\\anaconda3\\lib\\site-packages (from trio~=0.17->selenium>=4.0.0->selenium-wire) (1.3.0)\n",
      "Requirement already satisfied: pycparser in c:\\users\\user\\anaconda3\\lib\\site-packages (from cffi>=1.12->cryptography<43,>=41.0.5->pyOpenSSL>=22.0.0->selenium-wire) (2.21)\n",
      "Note: you may need to restart the kernel to use updated packages.\n"
     ]
    }
   ],
   "source": [
    "pip install selenium-wire"
   ]
  },
  {
   "cell_type": "code",
   "execution_count": 7,
   "id": "b885a72e-414d-48ea-8d0e-aa0cffda81da",
   "metadata": {},
   "outputs": [
    {
     "name": "stdout",
     "output_type": "stream",
     "text": [
      "Found elementIframe: <selenium.webdriver.remote.webelement.WebElement (session=\"cdbe92c2d48fa821e4ed696e48325db0\", element=\"f.0BF062C1A358614889775F3870B074E4.d.D37F6149571254A6347654473E85E4B1.e.10\")>\n",
      "Found elementReview: <selenium.webdriver.remote.webelement.WebElement (session=\"cdbe92c2d48fa821e4ed696e48325db0\", element=\"f.0BF062C1A358614889775F3870B074E4.d.D37F6149571254A6347654473E85E4B1.e.31\")>\n",
      "Found review_elements: []\n",
      "No reviews found.\n"
     ]
    }
   ],
   "source": [
    "import time\n",
    "import pandas as pd\n",
    "import urllib.parse\n",
    "import re\n",
    "from seleniumwire import webdriver  # selenium-wire를 사용\n",
    "from selenium.webdriver.common.by import By\n",
    "from selenium.webdriver.chrome.service import Service as ChromeService\n",
    "from selenium.webdriver.support.ui import WebDriverWait\n",
    "from selenium.webdriver.support import expected_conditions as EC\n",
    "from webdriver_manager.chrome import ChromeDriverManager\n",
    "\n",
    "# 사용자 정의 헤더 설정\n",
    "custom_headers = {\n",
    "    'User-Agent': 'Mozilla/5.0 (Windows NT 10.0; Win64; x64) AppleWebKit/537.36 (KHTML, like Gecko) Chrome/90.0.4430.93 Safari/537.36',\n",
    "    'Accept-Language': 'en-US,en;q=0.9,ko;q=0.8'\n",
    "}\n",
    "\n",
    "# Chrome WebDriver 설정\n",
    "options = webdriver.ChromeOptions()\n",
    "options.add_argument('--headless')\n",
    "options.add_argument('--disable-gpu')\n",
    "\n",
    "# selenium-wire 사용하여 브라우저를 열 때 사용자 정의 헤더 설정\n",
    "driver = webdriver.Chrome(\n",
    "    service=ChromeService(ChromeDriverManager().install()),\n",
    "    seleniumwire_options={\n",
    "        'custom_headers': custom_headers\n",
    "    },\n",
    "    options=options\n",
    ")\n",
    "\n",
    "# URL 설정\n",
    "url = 'https://www.greating.co.kr/search/searchCareResult?IL_ITEM_TEXT=%EB%93%A4%EA%B9%A8%EB%A7%88%EB%8A%98%EC%A2%85%EC%9A%B0%EC%9C%A1%EB%B3%B6%EC%9D%8C%20%EC%84%B8%ED%8A%B8'\n",
    "driver.get(url)\n",
    "\n",
    "# 특정 요소가 로드될 때까지 대기\n",
    "time.sleep(1)  # 1초 대기\n",
    "elementIframe = driver.find_element(By.CSS_SELECTOR, '#dvSrchItemList_7558 > li > div > a > figure > img')\n",
    "print(\"Found elementIframe:\", elementIframe)\n",
    "elementIframe.click()\n",
    "\n",
    "# 리뷰 탭으로 전환\n",
    "time.sleep(2)  # 2초 대기\n",
    "elementReview = driver.find_element(By.CSS_SELECTOR, '#wrap > div.hd__popup.designationDetail > div > article > div > section.designationDetail__sect.detail > div.tab-menu > ul > li:nth-child(2) > a > strong')\n",
    "print(\"Found elementReview:\", elementReview)\n",
    "elementReview.click()\n",
    "\n",
    "# 리뷰가 로드될 때까지 대기\n",
    "time.sleep(2)  # 2초 대기\n",
    "# driver.switch_to.frame('#review-3')\n",
    "review_elements = driver.find_elements(By.CSS_SELECTOR, '#review-list > div > div > div.MuiStack-root.css-1toydpa > div.MuiStack-root.css-2s6hnf > div.MuiStack-root.css-j7qwjs > p')\n",
    "print(\"Found review_elements:\", review_elements)\n",
    "\n",
    "# 리뷰 텍스트 가져오기 및 출력\n",
    "if review_elements:\n",
    "    reviews = [review.text for review in review_elements]\n",
    "    for idx, review in enumerate(reviews, start=1):\n",
    "        print(f\"Review {idx}: {review}\")\n",
    "else:\n",
    "    print(\"No reviews found.\")\n",
    "\n",
    "# 작업 완료 후 브라우저 닫기\n",
    "# driver.quit()\n"
   ]
  },
  {
   "cell_type": "code",
   "execution_count": 8,
   "id": "3816d247-9219-4a70-b3e5-f14d85842503",
   "metadata": {},
   "outputs": [
    {
     "name": "stdout",
     "output_type": "stream",
     "text": [
      "Found elementIframe: <selenium.webdriver.remote.webelement.WebElement (session=\"69ae28939541f833bc77157c1a36ae08\", element=\"f.17E69233FD08A36169010F272A4098E4.d.A3EA58A25FA86ABFDA348D2FF8454A41.e.47\")>\n",
      "Found elementReview: <selenium.webdriver.remote.webelement.WebElement (session=\"69ae28939541f833bc77157c1a36ae08\", element=\"f.17E69233FD08A36169010F272A4098E4.d.A3EA58A25FA86ABFDA348D2FF8454A41.e.58\")>\n"
     ]
    },
    {
     "ename": "TimeoutException",
     "evalue": "Message: \n",
     "output_type": "error",
     "traceback": [
      "\u001b[1;31m---------------------------------------------------------------------------\u001b[0m",
      "\u001b[1;31mTimeoutException\u001b[0m                          Traceback (most recent call last)",
      "Cell \u001b[1;32mIn[8], line 39\u001b[0m\n\u001b[0;32m     36\u001b[0m elementReview\u001b[38;5;241m.\u001b[39mclick()\n\u001b[0;32m     38\u001b[0m \u001b[38;5;66;03m# 리뷰가 로드될 때까지 대기\u001b[39;00m\n\u001b[1;32m---> 39\u001b[0m review_elements \u001b[38;5;241m=\u001b[39m wait\u001b[38;5;241m.\u001b[39muntil(EC\u001b[38;5;241m.\u001b[39mpresence_of_all_elements_located((By\u001b[38;5;241m.\u001b[39mCSS_SELECTOR, \u001b[38;5;124m'\u001b[39m\u001b[38;5;124m#review-list > div > div > div.MuiStack-root.css-1toydpa > div.MuiStack-root.css-2s6hnf > div.MuiStack-root.css-j7qwjs > p\u001b[39m\u001b[38;5;124m'\u001b[39m)))\n\u001b[0;32m     40\u001b[0m \u001b[38;5;28mprint\u001b[39m(\u001b[38;5;124m\"\u001b[39m\u001b[38;5;124mFound review_elements:\u001b[39m\u001b[38;5;124m\"\u001b[39m, review_elements)\n\u001b[0;32m     42\u001b[0m \u001b[38;5;66;03m# 리뷰 텍스트 가져오기 및 출력\u001b[39;00m\n",
      "File \u001b[1;32m~\\anaconda3\\Lib\\site-packages\\selenium\\webdriver\\support\\wait.py:105\u001b[0m, in \u001b[0;36mWebDriverWait.until\u001b[1;34m(self, method, message)\u001b[0m\n\u001b[0;32m    103\u001b[0m     \u001b[38;5;28;01mif\u001b[39;00m time\u001b[38;5;241m.\u001b[39mmonotonic() \u001b[38;5;241m>\u001b[39m end_time:\n\u001b[0;32m    104\u001b[0m         \u001b[38;5;28;01mbreak\u001b[39;00m\n\u001b[1;32m--> 105\u001b[0m \u001b[38;5;28;01mraise\u001b[39;00m TimeoutException(message, screen, stacktrace)\n",
      "\u001b[1;31mTimeoutException\u001b[0m: Message: \n"
     ]
    }
   ],
   "source": [
    "import time\n",
    "import pandas as pd\n",
    "import urllib.parse\n",
    "import re\n",
    "from selenium import webdriver  # selenium 기본 webdriver 사용\n",
    "from selenium.webdriver.common.by import By\n",
    "from selenium.webdriver.chrome.service import Service as ChromeService\n",
    "from selenium.webdriver.support.ui import WebDriverWait\n",
    "from selenium.webdriver.support import expected_conditions as EC\n",
    "from webdriver_manager.chrome import ChromeDriverManager\n",
    "\n",
    "# 사용자 정의 헤더 설정\n",
    "user_agent = 'Mozilla/5.0 (Windows NT 10.0; Win64; x64) AppleWebKit/537.36 (KHTML, like Gecko) Chrome/90.0.4430.93 Safari/537.36'\n",
    "\n",
    "# Chrome WebDriver 설정\n",
    "options = webdriver.ChromeOptions()\n",
    "# options.add_argument('--headless')  # 헤드리스 모드를 일단 비활성화\n",
    "options.add_argument(f'user-agent={user_agent}')  # User-Agent 설정\n",
    "\n",
    "# selenium 기본 webdriver 사용하여 브라우저를 열 때 사용자 정의 헤더 설정\n",
    "driver = webdriver.Chrome(service=ChromeService(ChromeDriverManager().install()), options=options)\n",
    "\n",
    "# URL 설정\n",
    "url = 'https://www.greating.co.kr/search/searchCareResult?IL_ITEM_TEXT=%EB%93%A4%EA%B9%A8%EB%A7%88%EB%8A%98%EC%A2%85%EC%9A%B0%EC%9C%A1%EB%B3%B6%EC%9D%8C%20%EC%84%B8%ED%8A%B8'\n",
    "driver.get(url)\n",
    "\n",
    "# 특정 요소가 로드될 때까지 대기\n",
    "wait = WebDriverWait(driver, 10)  # 대기 시간을 10초로 설정\n",
    "elementIframe = wait.until(EC.presence_of_element_located((By.CSS_SELECTOR, '#dvSrchItemList_7558 > li > div > a > figure > img')))\n",
    "print(\"Found elementIframe:\", elementIframe)\n",
    "elementIframe.click()\n",
    "\n",
    "# 리뷰 탭으로 전환\n",
    "elementReview = wait.until(EC.presence_of_element_located((By.CSS_SELECTOR, '#wrap > div.hd__popup.designationDetail > div > article > div > section.designationDetail__sect.detail > div.tab-menu > ul > li:nth-child(2) > a > strong')))\n",
    "print(\"Found elementReview:\", elementReview)\n",
    "elementReview.click()\n",
    "\n",
    "# 리뷰가 로드될 때까지 대기\n",
    "review_elements = wait.until(EC.presence_of_all_elements_located((By.CSS_SELECTOR, '#review-list > div > div > div.MuiStack-root.css-1toydpa > div.MuiStack-root.css-2s6hnf > div.MuiStack-root.css-j7qwjs > p')))\n",
    "print(\"Found review_elements:\", review_elements)\n",
    "\n",
    "# 리뷰 텍스트 가져오기 및 출력\n",
    "if review_elements:\n",
    "    reviews = [review.text for review in review_elements]\n",
    "    for idx, review in enumerate(reviews, start=1):\n",
    "        print(f\"Review {idx}: {review}\")\n",
    "else:\n",
    "    print(\"No reviews found.\")\n",
    "\n",
    "# 작업 완료 후 브라우저 닫기\n",
    "driver.quit()\n"
   ]
  },
  {
   "cell_type": "code",
   "execution_count": null,
   "id": "cb2b57dc-d680-4742-aaa6-0c45385f554a",
   "metadata": {},
   "outputs": [],
   "source": []
  },
  {
   "cell_type": "code",
   "execution_count": 9,
   "id": "57393a44-3938-4a83-bc77-bece801f0254",
   "metadata": {},
   "outputs": [
    {
     "name": "stdout",
     "output_type": "stream",
     "text": [
      "Found elementIframe: <selenium.webdriver.remote.webelement.WebElement (session=\"5893ebefd65f3a7e2cd9f263826c0dcb\", element=\"f.8ECD724FD3FA235B8F0A74F475CBFCB0.d.4EC0A3010810903D8D1A05D8313E39C5.e.47\")>\n",
      "Found elementReview: <selenium.webdriver.remote.webelement.WebElement (session=\"5893ebefd65f3a7e2cd9f263826c0dcb\", element=\"f.8ECD724FD3FA235B8F0A74F475CBFCB0.d.4EC0A3010810903D8D1A05D8313E39C5.e.58\")>\n"
     ]
    },
    {
     "ename": "TimeoutException",
     "evalue": "Message: \n",
     "output_type": "error",
     "traceback": [
      "\u001b[1;31m---------------------------------------------------------------------------\u001b[0m",
      "\u001b[1;31mTimeoutException\u001b[0m                          Traceback (most recent call last)",
      "Cell \u001b[1;32mIn[9], line 50\u001b[0m\n\u001b[0;32m     47\u001b[0m elementReview\u001b[38;5;241m.\u001b[39mclick()\n\u001b[0;32m     49\u001b[0m \u001b[38;5;66;03m# 리뷰가 로드될 때까지 대기\u001b[39;00m\n\u001b[1;32m---> 50\u001b[0m review_elements \u001b[38;5;241m=\u001b[39m wait\u001b[38;5;241m.\u001b[39muntil(EC\u001b[38;5;241m.\u001b[39mpresence_of_all_elements_located((By\u001b[38;5;241m.\u001b[39mCSS_SELECTOR, \u001b[38;5;124m'\u001b[39m\u001b[38;5;124m#review-list > div > div > div.MuiStack-root.css-1toydpa > div.MuiStack-root.css-2s6hnf > div.MuiStack-root.css-j7qwjs > p\u001b[39m\u001b[38;5;124m'\u001b[39m)))\n\u001b[0;32m     51\u001b[0m \u001b[38;5;28mprint\u001b[39m(\u001b[38;5;124m\"\u001b[39m\u001b[38;5;124mFound review_elements:\u001b[39m\u001b[38;5;124m\"\u001b[39m, review_elements)\n\u001b[0;32m     53\u001b[0m \u001b[38;5;66;03m# 리뷰 텍스트 가져오기 및 출력\u001b[39;00m\n",
      "File \u001b[1;32m~\\anaconda3\\Lib\\site-packages\\selenium\\webdriver\\support\\wait.py:105\u001b[0m, in \u001b[0;36mWebDriverWait.until\u001b[1;34m(self, method, message)\u001b[0m\n\u001b[0;32m    103\u001b[0m     \u001b[38;5;28;01mif\u001b[39;00m time\u001b[38;5;241m.\u001b[39mmonotonic() \u001b[38;5;241m>\u001b[39m end_time:\n\u001b[0;32m    104\u001b[0m         \u001b[38;5;28;01mbreak\u001b[39;00m\n\u001b[1;32m--> 105\u001b[0m \u001b[38;5;28;01mraise\u001b[39;00m TimeoutException(message, screen, stacktrace)\n",
      "\u001b[1;31mTimeoutException\u001b[0m: Message: \n"
     ]
    }
   ],
   "source": [
    "import time\n",
    "import pandas as pd\n",
    "import urllib.parse\n",
    "import re\n",
    "from selenium import webdriver\n",
    "from selenium.webdriver.common.by import By\n",
    "from selenium.webdriver.chrome.service import Service as ChromeService\n",
    "from selenium.webdriver.support.ui import WebDriverWait\n",
    "from selenium.webdriver.support import expected_conditions as EC\n",
    "from webdriver_manager.chrome import ChromeDriverManager\n",
    "\n",
    "# 사용자 정의 헤더 설정\n",
    "user_agent = 'Mozilla/5.0 (Windows NT 10.0; Win64; x64) AppleWebKit/537.36 (KHTML, like Gecko) Chrome/90.0.4430.93 Safari/537.36'\n",
    "\n",
    "# Chrome WebDriver 설정\n",
    "options = webdriver.ChromeOptions()\n",
    "# options.add_argument('--headless')  # 헤드리스 모드를 일단 비활성화\n",
    "options.add_argument(f'user-agent={user_agent}')  # User-Agent 설정\n",
    "\n",
    "# selenium 기본 webdriver 사용하여 브라우저를 열 때 사용자 정의 헤더 설정\n",
    "driver = webdriver.Chrome(service=ChromeService(ChromeDriverManager().install()), options=options)\n",
    "\n",
    "# URL 설정\n",
    "url = 'https://www.greating.co.kr/search/searchCareResult?IL_ITEM_TEXT=%EB%93%A4%EA%B9%A8%EB%A7%88%EB%8A%98%EC%A2%85%EC%9A%B0%EC%9C%A1%EB%B3%B6%EC%9D%8C%20%EC%84%B8%ED%8A%B8'\n",
    "driver.get(url)\n",
    "\n",
    "# 페이지가 완전히 로드될 때까지 대기하는 함수\n",
    "def wait_for_page_load(driver, timeout=10):\n",
    "    WebDriverWait(driver, timeout).until(\n",
    "        lambda d: d.execute_script('return document.readyState') == 'complete'\n",
    "    )\n",
    "\n",
    "# 특정 요소가 로드될 때까지 대기\n",
    "wait = WebDriverWait(driver, 10)  # 대기 시간을 10초로 설정\n",
    "\n",
    "# 페이지 로드 완료 대기\n",
    "wait_for_page_load(driver)\n",
    "\n",
    "# 이미지 요소 찾기 및 클릭\n",
    "elementIframe = wait.until(EC.presence_of_element_located((By.CSS_SELECTOR, '#dvSrchItemList_7558 > li > div > a > figure > img')))\n",
    "print(\"Found elementIframe:\", elementIframe)\n",
    "elementIframe.click()\n",
    "\n",
    "# 리뷰 탭으로 전환\n",
    "elementReview = wait.until(EC.presence_of_element_located((By.CSS_SELECTOR, '#wrap > div.hd__popup.designationDetail > div > article > div > section.designationDetail__sect.detail > div.tab-menu > ul > li:nth-child(2) > a > strong')))\n",
    "print(\"Found elementReview:\", elementReview)\n",
    "elementReview.click()\n",
    "\n",
    "# 리뷰가 로드될 때까지 대기\n",
    "review_elements = wait.until(EC.presence_of_all_elements_located((By.CSS_SELECTOR, '#review-list > div > div > div.MuiStack-root.css-1toydpa > div.MuiStack-root.css-2s6hnf > div.MuiStack-root.css-j7qwjs > p')))\n",
    "print(\"Found review_elements:\", review_elements)\n",
    "\n",
    "# 리뷰 텍스트 가져오기 및 출력\n",
    "if review_elements:\n",
    "    reviews = [review.text for review in review_elements]\n",
    "    for idx, review in enumerate(reviews, start=1):\n",
    "        print(f\"Review {idx}: {review}\")\n",
    "else:\n",
    "    print(\"No reviews found.\")\n",
    "\n"
   ]
  },
  {
   "cell_type": "code",
   "execution_count": null,
   "id": "7ef2adf9-ae04-43ce-9ab2-c5e441c9d2ba",
   "metadata": {},
   "outputs": [],
   "source": []
  }
 ],
 "metadata": {
  "kernelspec": {
   "display_name": "Python 3 (ipykernel)",
   "language": "python",
   "name": "python3"
  },
  "language_info": {
   "codemirror_mode": {
    "name": "ipython",
    "version": 3
   },
   "file_extension": ".py",
   "mimetype": "text/x-python",
   "name": "python",
   "nbconvert_exporter": "python",
   "pygments_lexer": "ipython3",
   "version": "3.11.7"
  }
 },
 "nbformat": 4,
 "nbformat_minor": 5
}
