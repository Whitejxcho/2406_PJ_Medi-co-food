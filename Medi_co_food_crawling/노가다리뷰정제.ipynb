{
 "cells": [
  {
   "cell_type": "markdown",
   "id": "53764074-49d3-4af0-919b-f047d300b487",
   "metadata": {},
   "source": [
    "## 직접 하나하나 복사해서 엑셀에 붙여넣음"
   ]
  },
  {
   "cell_type": "markdown",
   "id": "b96bc1c3-2cbc-4c2f-a290-efe085f44431",
   "metadata": {},
   "source": [
    "나는 뒤에서 부터 긁어와서 순서가 거꾸로라 합치기 전에 내가 모은 파일의 순서는 역으로 바꿈"
   ]
  },
  {
   "cell_type": "code",
   "execution_count": null,
   "id": "b45696e0-eb06-4a29-8ab4-d08200e4ea6e",
   "metadata": {},
   "outputs": [],
   "source": [
    "import pandas as pd\n",
    "\n",
    "# 업로드된 파일 경로\n",
    "file2_path = r'C:\\Users\\USER\\Desktop\\5_6\\core_pj\\data\\crawlingOrNogada\\reviewDataFromBack.xlsx'\n",
    "\n",
    "# 엑셀 파일 로드\n",
    "df2 = pd.read_excel(file2_path)\n",
    "\n",
    "# 전체 역순으로 정렬\n",
    "df2_reversed = df2.iloc[::-1].reset_index(drop=True)\n",
    "\n",
    "# 전체 역순으로 정렬된 데이터프레임 출력\n",
    "print(\"전체 역순으로 정렬된 데이터프레임:\")\n",
    "print(df2_reversed)\n",
    "\n",
    "# 중간 저장을 원하면 엑셀로 저장\n",
    "df2_reversed_output_path = r'C:\\Users\\USER\\Desktop\\5_6\\core_pj\\data\\df2_reversed.xlsx'\n",
    "df2_reversed.to_excel(df2_reversed_output_path, index=False)\n",
    "print(f\"전체 역순으로 정렬된 데이터프레임이 {df2_reversed_output_path}에 저장되었습니다.\")\n",
    "\n"
   ]
  },
  {
   "cell_type": "markdown",
   "id": "3c9e889e-2fd7-45fa-bb23-36cd77514562",
   "metadata": {},
   "source": [
    "두 DF 행 밑으로 쭉 이어붙이기"
   ]
  },
  {
   "cell_type": "code",
   "execution_count": null,
   "id": "24bbb416-6a36-49d0-9c73-25ce5a6ff57f",
   "metadata": {},
   "outputs": [],
   "source": [
    "# 두 데이터프레임을 이어 붙이기\n",
    "file1_path = r'C:\\Users\\USER\\Desktop\\5_6\\core_pj\\data\\crawlingOrNogada\\reviewDataUntil40.xlsx'\n",
    "file2_path = r'C:\\Users\\USER\\Desktop\\5_6\\core_pj\\data\\crawlingOrNogada\\df2_reversed.xlsx'\n",
    "\n",
    "# 엑셀 파일 로드\n",
    "df1 = pd.read_excel(file1_path)\n",
    "df2 = pd.read_excel(file2_path)\n",
    "\n",
    "combined_df = pd.concat([df1, df2_sorted], ignore_index=True)\n",
    "\n",
    "# 결합된 데이터프레임을 새로운 엑셀 파일로 저장\n",
    "output_file_path = r'C:\\Users\\USER\\Desktop\\5_6\\core_pj\\data\\crawlingOrNogada\\hyundaiGreenFoodAllReview.xlsx'\n",
    "combined_df.to_excel(output_file_path, index=False)\n",
    "\n",
    "print(f\"현대그린푸드 전체 리뷰의 데이터프레임이 {output_file_path}에 저장되었습니다.\")"
   ]
  },
  {
   "cell_type": "markdown",
   "id": "74812936-9037-4152-8bf1-c432cabc9683",
   "metadata": {},
   "source": [
    "주식회사 샐리쿡 리뷰도 2개 가져와서 DF에 review로 합치자"
   ]
  },
  {
   "cell_type": "markdown",
   "id": "5908870e-bd69-440e-99db-0f52283a862d",
   "metadata": {},
   "source": []
  }
 ],
 "metadata": {
  "kernelspec": {
   "display_name": "Python 3 (ipykernel)",
   "language": "python",
   "name": "python3"
  },
  "language_info": {
   "codemirror_mode": {
    "name": "ipython",
    "version": 3
   },
   "file_extension": ".py",
   "mimetype": "text/x-python",
   "name": "python",
   "nbconvert_exporter": "python",
   "pygments_lexer": "ipython3",
   "version": "3.11.7"
  }
 },
 "nbformat": 4,
 "nbformat_minor": 5
}
