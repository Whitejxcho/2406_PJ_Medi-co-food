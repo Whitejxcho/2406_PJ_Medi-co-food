{
 "cells": [
  {
   "cell_type": "markdown",
   "id": "1542ed8a-a955-450e-8548-731f73d70540",
   "metadata": {},
   "source": [
    "## (주)디유푸드 리뷰 긁어오는 코드"
   ]
  },
  {
   "cell_type": "markdown",
   "id": "2f13d638-175d-43cd-baf0-482d86c76122",
   "metadata": {},
   "source": [
    " ### Local에 저장된 DB, 엑셀 파일에서 (주)다유푸드 컬럼에 해당하는 site_url을 열어서 리뷰 긁어오기"
   ]
  },
  {
   "cell_type": "code",
   "execution_count": null,
   "id": "2370b00a-c4f8-4ac1-a01f-135571700b7e",
   "metadata": {},
   "outputs": [],
   "source": [
    "import pandas as pd\n",
    "from selenium import webdriver as wb\n",
    "from selenium.webdriver.common.by import By\n",
    "from selenium.webdriver.chrome.service import Service\n",
    "from webdriver_manager.chrome import ChromeDriverManager\n",
    "import time\n",
    "\n",
    "# 엑셀 파일 경로\n",
    "excel_file_path = r\"C:\\Users\\USER\\Desktop\\5_6\\core_pj\\data\\환자식_imageO_siteO_108개.xlsx\"\n",
    "\n",
    "# 엑셀 파일 로드\n",
    "df_excel = pd.read_excel(excel_file_path)\n",
    "\n",
    "# '디유푸(주)'의 'site_url' 값을 필터링\n",
    "urls = df_excel[df_excel['제조사명'] == '디유푸드(주)']['site_url'].tolist()\n",
    "\n",
    "# 드라이버 설정\n",
    "driver = wb.Chrome(service=Service(ChromeDriverManager().install()))\n",
    "\n",
    "reviews_data = []\n",
    "\n",
    "for url in urls:\n",
    "    driver.get(url)\n",
    "    time.sleep(2)  # 페이지 로딩 대기\n",
    "\n",
    "    # 광고 페이지 닫기\n",
    "    ad_close_selector = '#is2popup1 > div.is2_popup-content > div > div.is2_popup-buttons > button.is2_popup-button.is2_popup-button-today'\n",
    "    try:\n",
    "        ad_close_button = driver.find_element(By.CSS_SELECTOR, ad_close_selector)\n",
    "        ad_close_button.click()\n",
    "        time.sleep(1)  # 광고 닫기 대기\n",
    "    except Exception as e:\n",
    "        print(\"광고 페이지가 발견되지 않음:\", e)\n",
    "\n",
    "    # 후기 탭 클릭\n",
    "    review_tab_selector = '#saleson > section > div.item_tab.widowScrolled > div > ul > li:nth-child(3) > a > span.txt'\n",
    "    review_tab = driver.find_element(By.CSS_SELECTOR, review_tab_selector)\n",
    "    driver.execute_script(\"arguments[0].click();\", review_tab)\n",
    "    time.sleep(2)  # 페이지 로딩 대기\n",
    "\n",
    "    # 상품명 가져오기\n",
    "    product_name_selector = '#saleson > section > div.view_top.container > div > div.col-12.col-lg-6.view_info > div.tit_area > p.title'\n",
    "    product_name = driver.find_element(By.CSS_SELECTOR, product_name_selector).text\n",
    "\n",
    "    reviews = []\n",
    "    page = 1\n",
    "\n",
    "    while True:\n",
    "        try:\n",
    "            print(f\"Scraping page {page} of {url}...\")\n",
    "\n",
    "            # 리뷰 텍스트 가져오기\n",
    "            review_texts = driver.find_elements(By.CSS_SELECTOR, '#review-list > li > div > div > div.review_origin > div.txt_area > div')\n",
    "            for review in review_texts:\n",
    "                reviews.append(review.text)\n",
    "\n",
    "            # 다음 페이지 버튼 클릭\n",
    "            next_button = driver.find_element(By.CSS_SELECTOR, '#review-list > ul > li.page-item.next > a')\n",
    "            if next_button.is_displayed():\n",
    "                driver.execute_script(\"arguments[0].click();\", next_button)\n",
    "                time.sleep(2)  # 페이지 로딩 대기\n",
    "                page += 1\n",
    "            else:\n",
    "                break\n",
    "        except Exception as e:\n",
    "            print(f\"Exception occurred: {e}\")\n",
    "            break\n",
    "\n",
    "    for review in reviews:\n",
    "        reviews_data.append({\n",
    "            \"Product Name\": product_name,\n",
    "            \"Review\": review,\n",
    "            \"URL\": url\n",
    "        })\n",
    "\n",
    "# 데이터프레임 생성\n",
    "df_reviews = pd.DataFrame(reviews_data)\n",
    "\n",
    "# 크롤링 결과 출력\n",
    "print(df_reviews)\n",
    "\n",
    "# 최종 결과를 엑셀로 저장\n",
    "output_path = r'C:\\Users\\USER\\Desktop\\5_6\\core_pj\\data\\crawlingOrNogada\\DayouFoodReview.xlsx'\n",
    "df_reviews.to_excel(output_path, index=False)\n",
    "print(f\"다유푸드 리뷰 데이터가 {output_path}에 저장되었습니다.\")\n",
    "\n",
    "\n",
    "# 크롬 드라이버 종료\n",
    "driver.quit()\n"
   ]
  },
  {
   "cell_type": "code",
   "execution_count": null,
   "id": "c14b8655-95a2-4bec-8329-6f3395e74395",
   "metadata": {},
   "outputs": [],
   "source": []
  },
  {
   "cell_type": "markdown",
   "id": "891f08f2-ee95-4749-8684-bdd2f097d555",
   "metadata": {},
   "source": [
    "## 리뷰 코드 합치기 코드"
   ]
  },
  {
   "cell_type": "code",
   "execution_count": 3,
   "id": "303f0046-2f6e-4933-9bf3-1f86507c6772",
   "metadata": {},
   "outputs": [
    {
     "name": "stdout",
     "output_type": "stream",
     "text": [
      "결합된 데이터가 C:\\Users\\USER\\Desktop\\5_6\\core_pj\\data\\crawlingOrNogada\\allReviewData.xlsx에 저장되었습니다.\n"
     ]
    }
   ],
   "source": [
    "import pandas as pd\n",
    "\n",
    "# 파일 경로\n",
    "file1_path = r'C:\\Users\\USER\\Desktop\\5_6\\core_pj\\data\\crawlingOrNogada\\hyundaiGreenFoodAllReview.xlsx'\n",
    "file2_path = r'C:\\Users\\USER\\Desktop\\5_6\\core_pj\\data\\crawlingOrNogada\\DayouFoodReview.xlsx'\n",
    "\n",
    "# 엑셀 파일 로드\n",
    "df1 = pd.read_excel(file1_path)\n",
    "df2 = pd.read_excel(file2_path)\n",
    "\n",
    "# 두 데이터프레임을 이어 붙이기\n",
    "combined_df = pd.concat([df1, df2], ignore_index=True)\n",
    "\n",
    "# 결합된 데이터프레임을 새로운 엑셀 파일로 저장\n",
    "output_file_path = r'C:\\Users\\USER\\Desktop\\5_6\\core_pj\\data\\crawlingOrNogada\\possibleReview.xlsx'\n",
    "combined_df.to_excel(output_file_path, index=False)\n",
    "\n",
    "print(f\"결합된 데이터가 {output_file_path}에 저장되었습니다.\")\n"
   ]
  },
  {
   "cell_type": "code",
   "execution_count": null,
   "id": "25ba0dd5-b62a-4f15-a559-fa90cba87c89",
   "metadata": {},
   "outputs": [],
   "source": []
  },
  {
   "cell_type": "code",
   "execution_count": null,
   "id": "ddc807e9-88bf-43d3-b4a5-558d3cdc49b0",
   "metadata": {},
   "outputs": [],
   "source": [
    "\n"
   ]
  },
  {
   "cell_type": "code",
   "execution_count": null,
   "id": "4500646f-230e-492c-b737-7dd40535dac3",
   "metadata": {},
   "outputs": [],
   "source": []
  }
 ],
 "metadata": {
  "kernelspec": {
   "display_name": "Python 3 (ipykernel)",
   "language": "python",
   "name": "python3"
  },
  "language_info": {
   "codemirror_mode": {
    "name": "ipython",
    "version": 3
   },
   "file_extension": ".py",
   "mimetype": "text/x-python",
   "name": "python",
   "nbconvert_exporter": "python",
   "pygments_lexer": "ipython3",
   "version": "3.11.7"
  }
 },
 "nbformat": 4,
 "nbformat_minor": 5
}
